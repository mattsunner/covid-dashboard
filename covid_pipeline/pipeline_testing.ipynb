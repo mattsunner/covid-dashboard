{
 "cells": [
  {
   "cell_type": "code",
   "execution_count": 1,
   "metadata": {},
   "outputs": [],
   "source": [
    "import pandas as pd\n",
    "import numpy as np\n",
    "import sqlite3\n",
    "import openpyxl"
   ]
  },
  {
   "cell_type": "code",
   "execution_count": 2,
   "metadata": {},
   "outputs": [],
   "source": [
    "def get_different_rows(source_df, new_df):\n",
    "    \"\"\"Returns just the rows from the new dataframe that differ from the source dataframe\"\"\"\n",
    "    merged_df = source_df.merge(new_df, indicator=True, how='outer')\n",
    "    changed_rows_df = merged_df[merged_df['_merge'] == 'right_only']\n",
    "    return changed_rows_df.drop('_merge', axis=1)"
   ]
  },
  {
   "cell_type": "code",
   "execution_count": 3,
   "metadata": {},
   "outputs": [],
   "source": [
    "db_name = '../data/output_data/covidDB.db'\n",
    "conn = sqlite3.connect(db_name)"
   ]
  },
  {
   "cell_type": "code",
   "execution_count": 4,
   "metadata": {},
   "outputs": [],
   "source": [
    "df_persistent_fed = pd.read_sql('SELECT * FROM federaldata', conn)"
   ]
  },
  {
   "cell_type": "code",
   "execution_count": 8,
   "metadata": {},
   "outputs": [],
   "source": [
    "df_api_fed = pd.read_json('https://api.covidtracking.com/v1/us/daily.json')\n",
    "df_api_fed['date'] = pd.to_datetime(df_api_fed['date'].astype(str), format='%Y%m%d')"
   ]
  },
  {
   "cell_type": "code",
   "execution_count": 9,
   "metadata": {},
   "outputs": [],
   "source": [
    "df_api_fed = df_api_fed.astype({'date': object})"
   ]
  },
  {
   "cell_type": "code",
   "execution_count": 11,
   "metadata": {},
   "outputs": [
    {
     "name": "stdout",
     "output_type": "stream",
     "text": [
      "<class 'pandas.core.frame.DataFrame'>\n",
      "Int64Index: 345 entries, 345 to 689\n",
      "Data columns (total 25 columns):\n",
      " #   Column                    Non-Null Count  Dtype  \n",
      "---  ------                    --------------  -----  \n",
      " 0   date                      345 non-null    object \n",
      " 1   states                    345 non-null    int64  \n",
      " 2   positive                  344 non-null    float64\n",
      " 3   negative                  336 non-null    float64\n",
      " 4   pending                   294 non-null    float64\n",
      " 5   hospitalizedCurrently     281 non-null    float64\n",
      " 6   hospitalizedCumulative    294 non-null    float64\n",
      " 7   inIcuCurrently            272 non-null    float64\n",
      " 8   inIcuCumulative           273 non-null    float64\n",
      " 9   onVentilatorCurrently     273 non-null    float64\n",
      " 10  onVentilatorCumulative    266 non-null    float64\n",
      " 11  recovered                 273 non-null    float64\n",
      " 12  dateChecked               345 non-null    object \n",
      " 13  death                     317 non-null    float64\n",
      " 14  hospitalized              294 non-null    float64\n",
      " 15  totalTestResults          345 non-null    int64  \n",
      " 16  lastModified              345 non-null    object \n",
      " 17  total                     345 non-null    int64  \n",
      " 18  posNeg                    345 non-null    int64  \n",
      " 19  deathIncrease             345 non-null    int64  \n",
      " 20  hospitalizedIncrease      345 non-null    int64  \n",
      " 21  negativeIncrease          345 non-null    int64  \n",
      " 22  positiveIncrease          345 non-null    int64  \n",
      " 23  totalTestResultsIncrease  345 non-null    int64  \n",
      " 24  hash                      345 non-null    object \n",
      "dtypes: float64(12), int64(9), object(4)\n",
      "memory usage: 70.1+ KB\n"
     ]
    }
   ],
   "source": [
    "get_different_rows(df_persistent_fed, df_api_fed).info()"
   ]
  },
  {
   "cell_type": "code",
   "execution_count": null,
   "metadata": {},
   "outputs": [],
   "source": []
  }
 ],
 "metadata": {
  "kernelspec": {
   "display_name": "Python 3",
   "language": "python",
   "name": "python3"
  },
  "language_info": {
   "codemirror_mode": {
    "name": "ipython",
    "version": 3
   },
   "file_extension": ".py",
   "mimetype": "text/x-python",
   "name": "python",
   "nbconvert_exporter": "python",
   "pygments_lexer": "ipython3",
   "version": "3.8.0"
  }
 },
 "nbformat": 4,
 "nbformat_minor": 4
}
